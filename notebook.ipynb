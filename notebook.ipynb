{
 "cells": [
  {
   "cell_type": "code",
   "execution_count": 1,
   "id": "2acabac3-1319-441d-81b3-2e1a6f7f36ac",
   "metadata": {},
   "outputs": [],
   "source": [
    "#Run this cell to install the necessary packages\n",
    "import subprocess\n",
    "import pkg_resources\n",
    "\n",
    "def install_if_needed(package, version):\n",
    "    '''Function to ensure that the libraries used are consistent to avoid errors.'''\n",
    "    try:\n",
    "        pkg = pkg_resources.get_distribution(package)\n",
    "        if pkg.version != version:\n",
    "            raise pkg_resources.VersionConflict(pkg, version)\n",
    "    except (pkg_resources.DistributionNotFound, pkg_resources.VersionConflict):\n",
    "        subprocess.check_call([\"pip\", \"install\", f\"{package}=={version}\"])\n",
    "\n",
    "install_if_needed(\"langchain-core\", \"0.3.18\")\n",
    "install_if_needed(\"langchain-openai\", \"0.2.8\")\n",
    "install_if_needed(\"langchain-community\", \"0.3.7\")\n",
    "install_if_needed(\"unstructured\", \"0.14.4\")\n",
    "install_if_needed(\"langchain-chroma\", \"0.1.4\")\n",
    "install_if_needed(\"langchain-text-splitters\", \"0.3.2\")"
   ]
  },
  {
   "cell_type": "code",
   "execution_count": 3,
   "id": "61baf413-6464-4c1c-a52d-b3764c124602",
   "metadata": {},
   "outputs": [],
   "source": [
    "# Set your API key to a variable\n",
    "from dotenv import load_dotenv\n",
    "import os\n",
    "\n",
    "load_dotenv()\n",
    "\n",
    "openai_api_key = os.getenv(\"OPENAI_API_KEY\")\n",
    "\n",
    "if not openai_api_key:\n",
    "    raise ValueError(\"OPENAI_API_KEY not found in .env file\")\n",
    "\n",
    "# Import the required packages\n",
    "from langchain_core.prompts import ChatPromptTemplate\n",
    "from langchain_openai import ChatOpenAI\n",
    "from langchain_community.document_loaders import UnstructuredHTMLLoader\n",
    "from langchain_openai import OpenAIEmbeddings\n",
    "from langchain_core.runnables import RunnablePassthrough\n",
    "from langchain_text_splitters import RecursiveCharacterTextSplitter\n",
    "from langchain_chroma import Chroma"
   ]
  },
  {
   "cell_type": "code",
   "execution_count": 4,
   "id": "bed58c70-1315-409c-a590-a4c7af3cad80",
   "metadata": {},
   "outputs": [],
   "source": [
    "# Load the HTML as a LangChain document loader\n",
    "loader = UnstructuredHTMLLoader(file_path=\"data/mg-zs-warning-messages.html\")\n",
    "car_docs = loader.load()"
   ]
  },
  {
   "cell_type": "code",
   "execution_count": null,
   "id": "636184c7-8491-4bcb-93c5-6c22dd6f8c2b",
   "metadata": {},
   "outputs": [],
   "source": [
    "# Initialize RecursiveCharacterTextSplitter to make chunks of HTML text\n",
    "text_splitter = RecursiveCharacterTextSplitter(chunk_size=1000, chunk_overlap=200)\n"
   ]
  }
 ],
 "metadata": {
  "colab": {
   "name": "Welcome to DataCamp Workspaces.ipynb",
   "provenance": []
  },
  "kernelspec": {
   "display_name": "TCenv",
   "language": "python",
   "name": "python3"
  },
  "language_info": {
   "codemirror_mode": {
    "name": "ipython",
    "version": 3
   },
   "file_extension": ".py",
   "mimetype": "text/x-python",
   "name": "python",
   "nbconvert_exporter": "python",
   "pygments_lexer": "ipython3",
   "version": "3.9.5"
  }
 },
 "nbformat": 4,
 "nbformat_minor": 5
}
